{
 "cells": [
  {
   "attachments": {},
   "cell_type": "markdown",
   "metadata": {},
   "source": [
    "## Using LSTM model to predict disconnections\n",
    "- Uses single window\n",
    "- Only output in the final stage\n",
    "- Predicting 24 seconds before disconnection"
   ]
  },
  {
   "cell_type": "code",
   "execution_count": 68,
   "metadata": {},
   "outputs": [],
   "source": [
    "import IPython\n",
    "import sys\n",
    "import matplotlib.pyplot as plt\n",
    "import numpy as np\n",
    "from tensorflow import keras\n",
    "import tensorflow as tf\n",
    "import os\n",
    "import matplotlib as mp\n",
    "import matplotlib.pyplot as plt\n",
    "import pandas as pd \n",
    "\n",
    "from tensorflow.keras.layers import Dense, Activation, Dropout, Input, LSTM, Reshape, Lambda, RepeatVector\n",
    "from tensorflow.keras.models import Model\n",
    "from tensorflow.keras.optimizers import Adam\n",
    "from tensorflow.keras.utils import to_categorical\n",
    "\n"
   ]
  },
  {
   "cell_type": "markdown",
   "metadata": {},
   "source": []
  },
  {
   "cell_type": "code",
   "execution_count": 196,
   "metadata": {},
   "outputs": [],
   "source": [
    "#populates the labels\n",
    "def populateLabel(labels, Tx, indent = 8):\n",
    "\tindices = np.argwhere(labels == 0).flatten()\n",
    "\tfor i in indices:\n",
    "\t\tlabels[i-indent:i] = 0\n",
    "\t\n",
    "\treturn list(indices)\n",
    "\n",
    "# generate the dataset and return X and y inputs\n",
    "def generateDataset(dataset, Tx, nx):\n",
    "\tlabels = dataset['Connected'].to_numpy()\n",
    "\tdataset = dataset[['linkQuality','neighborLinkQuality', 'AVG RSSI value']]\n",
    "\tdt = dataset.to_numpy()\n",
    "\n",
    "\tprint(dt.shape)\n",
    "\tindices = populateLabel(labels, Tx, indent = 12)\n",
    "\t# dt = np.delete(dt, indices, axis=0)\n",
    "\t# labels = np.delete(labels, indices, axis=0)\t\n",
    "\tprint(dt.shape)\n",
    "\n",
    "\n",
    "\tentry, param = dt.shape\n",
    "\tX = np.zeros((entry, Tx, nx))\n",
    "\ty = np.zeros((Tx, entry, 1))\n",
    "\tlabels = np.reshape(labels, (entry,1))\n",
    "\n",
    "\tlabel_idx = 0\n",
    "\tx_idx = 0\n",
    "\tdata_size = 0\n",
    "\tprint(indices)\n",
    "\tfor i in range(entry):\t\t\n",
    "\t\tdt_idx = [x+x_idx for x in range(Tx)]\n",
    "\t\tif dt_idx.__contains__(indices[label_idx]):\n",
    "\t\t\tx_idx = indices[label_idx] + 1\n",
    "\t\t\tlabel_idx += 1\n",
    "\t\t# print(x_idx, x_idx + Tx)\n",
    "\t\tif entry <= x_idx:\n",
    "\t\t\tbreak\t\n",
    "\t\tX[i, :, :] = dt[x_idx : x_idx + Tx, :]\n",
    "\t\ty[:, i, :] = labels[x_idx: x_idx + Tx, :]\n",
    "\t\tdata_size = i\t\n",
    "\t\tx_idx += 1\n",
    "\t\t\n",
    "\tprint(data_size)\n",
    "\n",
    "\t# m = int(entry / Tx)\n",
    "\t# cnt = Tx\n",
    "\t# X = np.zeros((m, Tx, nx))\n",
    "\t# y = np.zeros((Tx, m, 1))\n",
    "\t# labels = np.reshape(labels, (entry,1))\n",
    "\t# for i in range(m):\n",
    "\t# \ts_idx = i*Tx\t\t\n",
    "\t# \tif s_idx + Tx > entry:\n",
    "\t# \t\tcnt = entry\n",
    "\t# \telse:\n",
    "\t# \t\tcnt = s_idx + Tx\n",
    "\t# \tX[i, :, :] = dt[s_idx : cnt, :]\n",
    "\t# \ty[:, i, :] = labels[s_idx : cnt, :]\n",
    "\t# \t#print(s_idx, entry, cnt)\n",
    "\t# \t#print(dt[s_idx : cnt, :])\n",
    "\n",
    "\treturn X, y, data_size + 1"
   ]
  },
  {
   "cell_type": "code",
   "execution_count": 284,
   "metadata": {},
   "outputs": [],
   "source": [
    "Tx = 16\n",
    "nx = 3\n",
    "data = pd.read_csv(\"dataset/win32_dataset.csv\")\n",
    "#print(data.columns)\n",
    "\n",
    "data['RSSI value'] = (data['RSSI value'] - data['RSSI value'].mean()) / data['RSSI value'].std()\n",
    "data['AVG RSSI value'] = (data['AVG RSSI value'] - data['AVG RSSI value'].mean()) / data['AVG RSSI value'].std()\n",
    "\n",
    "dataset = data[['linkQuality','neighborLinkQuality', 'AVG RSSI value', 'Connected']]\n",
    "#dataset.head(5)\n"
   ]
  },
  {
   "cell_type": "code",
   "execution_count": 285,
   "metadata": {},
   "outputs": [
    {
     "name": "stdout",
     "output_type": "stream",
     "text": [
      "(2178, 3)\n",
      "(2178, 3)\n",
      "[59, 118, 259, 400, 533, 664, 811, 959, 1110, 1257, 1322, 1384, 1447, 1510, 1679, 1846, 2012, 2177]\n",
      "1889\n",
      "(16, 1890, 1)\n",
      "(1890, 1)\n",
      "(1512, 16, 3) (378, 16, 3)\n",
      "(1512, 1) (378, 1)\n",
      "\n"
     ]
    }
   ],
   "source": [
    "X, y, data_size = generateDataset(dataset, Tx, nx)\n",
    "\n",
    "X = X[:data_size,:,:]\n",
    "y = y[:,:data_size]\n",
    "\n",
    "# working with y prediction at the end of the file\n",
    "print(y.shape)\n",
    "y = y[15, :data_size]\n",
    "#y = np.transpose(y, (1, 0))\n",
    "print(y.shape)\n",
    "\n",
    "entry = X.shape[0]\n",
    "\n",
    "train_size = round(0.8*entry)\n",
    "trainX, trainy = X[0:train_size,:,:], y[:train_size,:]\n",
    "testX, testy = X[train_size:,:,:], y[train_size:,:]\n",
    "print(trainX.shape, testX.shape)\n",
    "print(trainy.shape, testy.shape)\n",
    "#print(testy[1:3,:,:])\n",
    "print()"
   ]
  },
  {
   "cell_type": "code",
   "execution_count": 273,
   "metadata": {},
   "outputs": [],
   "source": [
    "# print(X[1889,:,:])\n",
    "# print(y[:,1888])"
   ]
  },
  {
   "cell_type": "code",
   "execution_count": 230,
   "metadata": {},
   "outputs": [],
   "source": [
    "# number of dimensions for the hidden state of each LSTM cell.\n",
    "n_a = 32\n",
    "n_values = nx # number of parameters\n",
    "reshaper = Reshape((1, n_values))      \n",
    "LSTM_cell = LSTM(n_a, return_state = True)\n",
    "densor = Dense(1, activation='sigmoid')"
   ]
  },
  {
   "cell_type": "code",
   "execution_count": 260,
   "metadata": {},
   "outputs": [],
   "source": [
    "def connectionModel(Tx, LSTM_cell, densor, reshaper):\n",
    "    \"\"\"\n",
    "    Implement the connection model composed of Tx LSTM cells where each cell is responsible\n",
    "    for learning the following note based on the previous note and context.\n",
    "    Each cell has the following schema:\n",
    "            [X_{t}, a_{t-1}, c0_{t-1}] -> RESHAPE() -> LSTM() -> DENSE()\n",
    "    Arguments:\n",
    "        Tx -- length of the sequences in the corpus\n",
    "        LSTM_cell -- LSTM layer instance\n",
    "        densor -- Dense layer instance\n",
    "        reshaper -- Reshape layer instance\n",
    "    \n",
    "    Returns:\n",
    "        model -- a keras instance model with inputs [X, a0, c0]\n",
    "    \"\"\"\n",
    "    # Get the shape of input values\n",
    "    n_values = nx\n",
    "    \n",
    "    # Get the number of the hidden state vector\n",
    "    n_a = LSTM_cell.units\n",
    "    \n",
    "    # Define the input layer and specify the shape\n",
    "    X = Input(shape=(Tx, n_values)) \n",
    "    \n",
    "    # Define the initial hidden state a0 and initial cell state c0\n",
    "    a0 = Input(shape=(n_a,), name='a0')\n",
    "    c0 = Input(shape=(n_a,), name='c0')\n",
    "    a = a0\n",
    "    c = c0\n",
    "    \n",
    "\t#empty list for the output\n",
    "    outputs = []\n",
    "\n",
    "    #Loop over tx\n",
    "    for t in range(Tx):        \n",
    "        #select the \"t\"th time step vector from X. \n",
    "        x = X[:,t,:]\n",
    "        #print(x.shape)\n",
    "        #Use reshaper to reshape x to be (1, n_values)\n",
    "        x = reshaper(x)\n",
    "        #Perform one step of the LSTM_cell\n",
    "        a, _, c = LSTM_cell(x, initial_state=[a,c])\n",
    "        #Apply densor to the hidden state output of LSTM_Cell\n",
    "    out = densor(a)\n",
    "    print(out.shape)\n",
    "\t\n",
    "    #add the output to \"outputs\"    \n",
    "    #outputs.append(op)\n",
    "        \n",
    "    #Create model instance\n",
    "    model = Model(inputs=[X, a0, c0], outputs=out)\n",
    "    return model"
   ]
  },
  {
   "cell_type": "code",
   "execution_count": 261,
   "metadata": {},
   "outputs": [
    {
     "name": "stdout",
     "output_type": "stream",
     "text": [
      "(None, 1)\n"
     ]
    }
   ],
   "source": [
    "model = connectionModel(Tx, LSTM_cell=LSTM_cell, densor=densor, reshaper=reshaper)"
   ]
  },
  {
   "cell_type": "code",
   "execution_count": null,
   "metadata": {},
   "outputs": [],
   "source": [
    "model.summary()"
   ]
  },
  {
   "cell_type": "code",
   "execution_count": 262,
   "metadata": {},
   "outputs": [],
   "source": [
    "opt = Adam(learning_rate=0.01, beta_1=0.9, beta_2=0.999)\n",
    "model.compile(optimizer=opt, loss='binary_crossentropy', metrics=['accuracy'])"
   ]
  },
  {
   "cell_type": "code",
   "execution_count": 263,
   "metadata": {},
   "outputs": [],
   "source": [
    "m = trainX.shape[0]\n",
    "testSize = testX.shape[0]\n",
    "a0 = np.zeros((m, n_a))\n",
    "c0 = np.zeros((m, n_a))"
   ]
  },
  {
   "cell_type": "code",
   "execution_count": 264,
   "metadata": {},
   "outputs": [
    {
     "name": "stdout",
     "output_type": "stream",
     "text": [
      "(1, 1512)\n"
     ]
    }
   ],
   "source": [
    "print(trainy.shape)\n",
    "trainy = np.transpose(trainy, (1, 0))\n",
    "history = model.fit([trainX, a0, c0], trainy, epochs=95, verbose = 0)"
   ]
  },
  {
   "cell_type": "code",
   "execution_count": 265,
   "metadata": {},
   "outputs": [
    {
     "name": "stdout",
     "output_type": "stream",
     "text": [
      "loss at epoch 1: 0.24339276552200317\n",
      "loss at epoch 100: 0.02920772135257721\n"
     ]
    },
    {
     "data": {
      "text/plain": [
       "[<matplotlib.lines.Line2D at 0x26c705ef070>]"
      ]
     },
     "execution_count": 265,
     "metadata": {},
     "output_type": "execute_result"
    },
    {
     "data": {
      "image/png": "[encoded data removed]",
      "text/plain": [
       "<Figure size 640x480 with 1 Axes>"
      ]
     },
     "metadata": {},
     "output_type": "display_data"
    }
   ],
   "source": [
    "print(f\"loss at epoch 1: {history.history['loss'][0]}\")\n",
    "print(f\"loss at epoch 100: {history.history['loss'][94]}\")\n",
    "plt.plot(history.history['loss'])"
   ]
  },
  {
   "cell_type": "code",
   "execution_count": 43,
   "metadata": {},
   "outputs": [],
   "source": [
    "def connection_inference_model(LSTM_cell, densor, Ty=Tx):\n",
    "    \"\"\"\n",
    "    Uses the trained \"LSTM_cell\" and \"densor\" from model() to generate a sequence of values.\n",
    "    \n",
    "    Arguments:\n",
    "    LSTM_cell -- the trained \"LSTM_cell\" from model(), Keras layer object\n",
    "    densor -- the trained \"densor\" from model(), Keras layer object\n",
    "    Ty -- integer, number of time steps to generate\n",
    "    \n",
    "    Returns:\n",
    "    inference_model -- Keras model instance\n",
    "    \"\"\"\n",
    "    \n",
    "    # Get the shape of input values hello\n",
    "    n_values = nx\n",
    "    # Get the number of the hidden state vector\n",
    "    n_a = LSTM_cell.units\n",
    "    \n",
    "    # Define the input of your model with a shape \n",
    "    X = Input(shape=(Ty, n_values))\n",
    "    \n",
    "    \n",
    "    # Define s0, initial hidden state for the decoder LSTM\n",
    "    a0 = Input(shape=(n_a,), name='a0')\n",
    "    c0 = Input(shape=(n_a,), name='c0')\n",
    "    a = a0\n",
    "    c = c0\n",
    "    \n",
    "    outputs = []\n",
    "\n",
    "    print(X.shape)\n",
    "\n",
    "    for t in range(Ty):\n",
    "        x = X[:,t,:]\n",
    "        print(x.shape)\n",
    "        x = reshaper(x)\n",
    "        a, _, c = LSTM_cell(x, initial_state=[a,c])\n",
    "        out = densor(a)\n",
    "        outputs.append(out)\n",
    "        print(x.shape)\n",
    "\n",
    "    inference_model = Model(inputs=[X,a0,c0], outputs=outputs)    \n",
    "    return inference_model"
   ]
  },
  {
   "cell_type": "code",
   "execution_count": 286,
   "metadata": {},
   "outputs": [],
   "source": [
    "def calculate_accuracy(array1, array2):\n",
    "    assert array1.shape == array2.shape, \"Arrays must be of the same shape\"\n",
    "    correct = np.sum(np.equal(array1,array2))\n",
    "    total = np.size(array1)\n",
    "    return correct/total"
   ]
  },
  {
   "attachments": {},
   "cell_type": "markdown",
   "metadata": {},
   "source": [
    "# Trying it out on test set\n"
   ]
  },
  {
   "cell_type": "code",
   "execution_count": 287,
   "metadata": {},
   "outputs": [
    {
     "name": "stdout",
     "output_type": "stream",
     "text": [
      "12/12 [==============================] - 7s 7ms/step\n",
      "0.9867724867724867\n",
      "hello (378, 1)\n"
     ]
    }
   ],
   "source": [
    "testSize = testX.shape[0]\n",
    "a_initializer = np.zeros((testSize, n_a))\n",
    "c_initializer = np.zeros((testSize, n_a))\n",
    "\n",
    "tst = testX\n",
    "pred = model.predict([tst, a_initializer, c_initializer])\n",
    "\n",
    "#analyse data\n",
    "for i in range(len(pred)):\n",
    "\tpred[i] = [1 if x >= 0.5 else 0 for x in pred[i]]\n",
    "\n",
    "ypred = np.array(pred)\n",
    "ypred = ypred.reshape(testSize, 1)\n",
    "\n",
    "print(calculate_accuracy(ypred, testy))\n",
    "\n",
    "\n",
    "trainy_op =  ypred.astype('int')\n",
    "print(\"hello\", trainy_op.shape)\n",
    "modeloutput = pd.DataFrame(trainy_op)\n",
    "realoutput = pd.DataFrame(testy)\n",
    "modeloutput.to_csv(\"modeloutput.csv\")\n",
    "realoutput.to_csv(\"real_output.csv\")\n"
   ]
  },
  {
   "attachments": {},
   "cell_type": "markdown",
   "metadata": {},
   "source": [
    "# Accuracy on training set"
   ]
  },
  {
   "cell_type": "code",
   "execution_count": 288,
   "metadata": {},
   "outputs": [],
   "source": [
    "#train set accuracy check\n",
    "testSize = train_size\n",
    "a_initializer = np.zeros((testSize, n_a))\n",
    "c_initializer = np.zeros((testSize, n_a))"
   ]
  },
  {
   "cell_type": "code",
   "execution_count": 289,
   "metadata": {},
   "outputs": [
    {
     "name": "stdout",
     "output_type": "stream",
     "text": [
      "(1512, 16, 3)\n",
      "48/48 [==============================] - 4s 9ms/step\n"
     ]
    }
   ],
   "source": [
    "\n",
    "tst = trainX\n",
    "print(tst.shape)\n",
    "#inference_model = connection_inference_model(LSTM_cell, densor, Tx)\n",
    "#pred = inference_model.predict([tst, a_initializer, c_initializer])\n",
    "pred = model.predict([tst, a_initializer, c_initializer])"
   ]
  },
  {
   "cell_type": "code",
   "execution_count": 290,
   "metadata": {},
   "outputs": [
    {
     "name": "stdout",
     "output_type": "stream",
     "text": [
      "(1512, 1) (1512, 1)\n",
      "0.9880952380952381\n",
      "hello (1512, 1)\n"
     ]
    }
   ],
   "source": [
    "for i in range(len(pred)):\n",
    "\tpred[i] = [1 if x >= 0.5 else 0 for x in pred[i]]\n",
    "\n",
    "\n",
    "ypred = np.array(pred)\n",
    "ypred = ypred.reshape(testSize, 1)\n",
    "\n",
    "print(ypred.shape, trainy.shape)\n",
    "print(calculate_accuracy(ypred, trainy))\n",
    "\n",
    "trainy_op =  ypred.astype('int')\n",
    "print(\"hello\", trainy_op.shape)\n",
    "modeloutput = pd.DataFrame(trainy_op)\n",
    "realoutput = pd.DataFrame(trainy)\n",
    "modeloutput.to_csv(\"modeloutputTrain.csv\")\n",
    "realoutput.to_csv(\"real_outputTrain.csv\")\n"
   ]
  },
  {
   "cell_type": "code",
   "execution_count": null,
   "metadata": {},
   "outputs": [
    {
     "data": {
      "text/plain": [
       "array([[ 1.        ,  1.        , -1.36616162],\n",
       "       [ 1.        ,  0.886     , -1.4255813 ],\n",
       "       [ 1.        ,  0.886     , -1.48500098],\n",
       "       [ 1.        ,  0.886     , -1.48500098],\n",
       "       [ 1.        ,  0.796     , -1.48500098],\n",
       "       [ 1.        ,  0.796     , -1.54442066],\n",
       "       [ 0.894     ,  0.689     , -1.54442066],\n",
       "       [ 0.886     ,  0.689     , -1.54442066],\n",
       "       [ 0.831     ,  0.541     , -1.60384035],\n",
       "       [ 0.831     ,  0.541     , -1.54442066],\n",
       "       [ 0.812     ,  0.541     , -1.54442066],\n",
       "       [ 0.729     ,  0.541     , -1.54442066],\n",
       "       [ 0.662     ,  0.329     , -1.54442066],\n",
       "       [ 0.643     ,  0.329     , -1.54442066],\n",
       "       [ 0.596     ,  0.329     , -1.54442066],\n",
       "       [ 0.497     ,  0.329     , -1.54442066]])"
      ]
     },
     "execution_count": 291,
     "metadata": {},
     "output_type": "execute_result"
    }
   ],
   "source": [
    "# model.save('lstm_modlel')\n",
    "# trainX[1275,:,:]"
   ]
  }
 ],
 "metadata": {
  "kernelspec": {
   "display_name": "Python 3.9.0 64-bit",
   "language": "python",
   "name": "python3"
  },
  "language_info": {
   "codemirror_mode": {
    "name": "ipython",
    "version": 3
   },
   "file_extension": ".py",
   "mimetype": "text/x-python",
   "name": "python",
   "nbconvert_exporter": "python",
   "pygments_lexer": "ipython3",
   "version": "3.9.0"
  },
  "orig_nbformat": 4,
  "vscode": {
   "interpreter": {
    "hash": "bf0f5d43016d70db13a3a65be30be6b37fddca62a5675c546136264e1b91590c"
   }
  }
 },
 "nbformat": 4,
 "nbformat_minor": 2
}
