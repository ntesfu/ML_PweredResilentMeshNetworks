{
 "cells": [
  {
   "cell_type": "markdown",
   "metadata": {},
   "source": []
  },
  {
   "cell_type": "code",
   "execution_count": 2,
   "metadata": {},
   "outputs": [],
   "source": [
    "import matplotlib.pyplot as plt\n",
    "import matplotlib as mpl\n",
    "import pandas as pd"
   ]
  },
  {
   "cell_type": "code",
   "execution_count": 3,
   "metadata": {},
   "outputs": [],
   "source": [
    "data5 = pd.read_csv(\"./window 5/distance2/5.csv\")\n",
    "data16 = pd.read_csv(\"./window 16/distance2/5.csv\")\n",
    "data32 = pd.read_csv(\"./window 32/distance2/5.csv\")"
   ]
  },
  {
   "cell_type": "code",
   "execution_count": 4,
   "metadata": {},
   "outputs": [
    {
     "data": {
      "text/html": [
       "<div>\n",
       "<style scoped>\n",
       "    .dataframe tbody tr th:only-of-type {\n",
       "        vertical-align: middle;\n",
       "    }\n",
       "\n",
       "    .dataframe tbody tr th {\n",
       "        vertical-align: top;\n",
       "    }\n",
       "\n",
       "    .dataframe thead th {\n",
       "        text-align: right;\n",
       "    }\n",
       "</style>\n",
       "<table border=\"1\" class=\"dataframe\">\n",
       "  <thead>\n",
       "    <tr style=\"text-align: right;\">\n",
       "      <th></th>\n",
       "      <th>systemTime</th>\n",
       "      <th>ipAddress</th>\n",
       "      <th>multiPointRelaySelector</th>\n",
       "      <th>linkCost</th>\n",
       "      <th>linkQuality</th>\n",
       "      <th>neighborLinkQuality</th>\n",
       "      <th>RSSI value</th>\n",
       "      <th>AVG RSSI value</th>\n",
       "      <th>Connected</th>\n",
       "      <th>Unnamed: 9</th>\n",
       "    </tr>\n",
       "  </thead>\n",
       "  <tbody>\n",
       "    <tr>\n",
       "      <th>0</th>\n",
       "      <td>1673426579</td>\n",
       "      <td>10.79.141.35</td>\n",
       "      <td>True</td>\n",
       "      <td>1.677734</td>\n",
       "      <td>1.000</td>\n",
       "      <td>1.0</td>\n",
       "      <td>-27</td>\n",
       "      <td>-29</td>\n",
       "      <td>1</td>\n",
       "      <td>NaN</td>\n",
       "    </tr>\n",
       "    <tr>\n",
       "      <th>1</th>\n",
       "      <td>1673426581</td>\n",
       "      <td>10.79.141.35</td>\n",
       "      <td>True</td>\n",
       "      <td>1.677734</td>\n",
       "      <td>1.000</td>\n",
       "      <td>1.0</td>\n",
       "      <td>-28</td>\n",
       "      <td>-29</td>\n",
       "      <td>1</td>\n",
       "      <td>NaN</td>\n",
       "    </tr>\n",
       "    <tr>\n",
       "      <th>2</th>\n",
       "      <td>1673426583</td>\n",
       "      <td>10.79.141.35</td>\n",
       "      <td>True</td>\n",
       "      <td>1.677734</td>\n",
       "      <td>1.000</td>\n",
       "      <td>1.0</td>\n",
       "      <td>-29</td>\n",
       "      <td>-29</td>\n",
       "      <td>1</td>\n",
       "      <td>NaN</td>\n",
       "    </tr>\n",
       "    <tr>\n",
       "      <th>3</th>\n",
       "      <td>1673426585</td>\n",
       "      <td>10.79.141.35</td>\n",
       "      <td>True</td>\n",
       "      <td>1.677734</td>\n",
       "      <td>1.000</td>\n",
       "      <td>1.0</td>\n",
       "      <td>-28</td>\n",
       "      <td>-28</td>\n",
       "      <td>1</td>\n",
       "      <td>NaN</td>\n",
       "    </tr>\n",
       "    <tr>\n",
       "      <th>4</th>\n",
       "      <td>1673426587</td>\n",
       "      <td>10.79.141.35</td>\n",
       "      <td>True</td>\n",
       "      <td>1.677734</td>\n",
       "      <td>1.000</td>\n",
       "      <td>1.0</td>\n",
       "      <td>-38</td>\n",
       "      <td>-29</td>\n",
       "      <td>1</td>\n",
       "      <td>NaN</td>\n",
       "    </tr>\n",
       "    <tr>\n",
       "      <th>...</th>\n",
       "      <td>...</td>\n",
       "      <td>...</td>\n",
       "      <td>...</td>\n",
       "      <td>...</td>\n",
       "      <td>...</td>\n",
       "      <td>...</td>\n",
       "      <td>...</td>\n",
       "      <td>...</td>\n",
       "      <td>...</td>\n",
       "      <td>...</td>\n",
       "    </tr>\n",
       "    <tr>\n",
       "      <th>129</th>\n",
       "      <td>1673426838</td>\n",
       "      <td>10.79.141.35</td>\n",
       "      <td>True</td>\n",
       "      <td>2.265625</td>\n",
       "      <td>0.662</td>\n",
       "      <td>1.0</td>\n",
       "      <td>-70</td>\n",
       "      <td>-74</td>\n",
       "      <td>1</td>\n",
       "      <td>NaN</td>\n",
       "    </tr>\n",
       "    <tr>\n",
       "      <th>130</th>\n",
       "      <td>1673426840</td>\n",
       "      <td>10.79.141.35</td>\n",
       "      <td>True</td>\n",
       "      <td>2.382812</td>\n",
       "      <td>0.662</td>\n",
       "      <td>1.0</td>\n",
       "      <td>-77</td>\n",
       "      <td>-75</td>\n",
       "      <td>1</td>\n",
       "      <td>NaN</td>\n",
       "    </tr>\n",
       "    <tr>\n",
       "      <th>131</th>\n",
       "      <td>1673426842</td>\n",
       "      <td>10.79.141.35</td>\n",
       "      <td>True</td>\n",
       "      <td>2.208984</td>\n",
       "      <td>0.748</td>\n",
       "      <td>1.0</td>\n",
       "      <td>-76</td>\n",
       "      <td>-76</td>\n",
       "      <td>1</td>\n",
       "      <td>NaN</td>\n",
       "    </tr>\n",
       "    <tr>\n",
       "      <th>132</th>\n",
       "      <td>1673426844</td>\n",
       "      <td>10.79.141.35</td>\n",
       "      <td>True</td>\n",
       "      <td>1.874023</td>\n",
       "      <td>1.000</td>\n",
       "      <td>1.0</td>\n",
       "      <td>-81</td>\n",
       "      <td>-77</td>\n",
       "      <td>1</td>\n",
       "      <td>NaN</td>\n",
       "    </tr>\n",
       "    <tr>\n",
       "      <th>133</th>\n",
       "      <td>1673426846</td>\n",
       "      <td>10.79.141.35</td>\n",
       "      <td>True</td>\n",
       "      <td>2.618164</td>\n",
       "      <td>0.662</td>\n",
       "      <td>1.0</td>\n",
       "      <td>-80</td>\n",
       "      <td>-77</td>\n",
       "      <td>1</td>\n",
       "      <td>NaN</td>\n",
       "    </tr>\n",
       "  </tbody>\n",
       "</table>\n",
       "<p>134 rows × 10 columns</p>\n",
       "</div>"
      ],
      "text/plain": [
       "     systemTime     ipAddress  multiPointRelaySelector  linkCost  linkQuality  \\\n",
       "0    1673426579  10.79.141.35                     True  1.677734        1.000   \n",
       "1    1673426581  10.79.141.35                     True  1.677734        1.000   \n",
       "2    1673426583  10.79.141.35                     True  1.677734        1.000   \n",
       "3    1673426585  10.79.141.35                     True  1.677734        1.000   \n",
       "4    1673426587  10.79.141.35                     True  1.677734        1.000   \n",
       "..          ...           ...                      ...       ...          ...   \n",
       "129  1673426838  10.79.141.35                     True  2.265625        0.662   \n",
       "130  1673426840  10.79.141.35                     True  2.382812        0.662   \n",
       "131  1673426842  10.79.141.35                     True  2.208984        0.748   \n",
       "132  1673426844  10.79.141.35                     True  1.874023        1.000   \n",
       "133  1673426846  10.79.141.35                     True  2.618164        0.662   \n",
       "\n",
       "     neighborLinkQuality  RSSI value  AVG RSSI value  Connected  Unnamed: 9  \n",
       "0                    1.0         -27             -29          1         NaN  \n",
       "1                    1.0         -28             -29          1         NaN  \n",
       "2                    1.0         -29             -29          1         NaN  \n",
       "3                    1.0         -28             -28          1         NaN  \n",
       "4                    1.0         -38             -29          1         NaN  \n",
       "..                   ...         ...             ...        ...         ...  \n",
       "129                  1.0         -70             -74          1         NaN  \n",
       "130                  1.0         -77             -75          1         NaN  \n",
       "131                  1.0         -76             -76          1         NaN  \n",
       "132                  1.0         -81             -77          1         NaN  \n",
       "133                  1.0         -80             -77          1         NaN  \n",
       "\n",
       "[134 rows x 10 columns]"
      ]
     },
     "execution_count": 4,
     "metadata": {},
     "output_type": "execute_result"
    }
   ],
   "source": [
    "data5"
   ]
  },
  {
   "cell_type": "code",
   "execution_count": 54,
   "metadata": {},
   "outputs": [
    {
     "data": {
      "text/plain": [
       "<matplotlib.legend.Legend at 0x1975f23eaa0>"
      ]
     },
     "execution_count": 54,
     "metadata": {},
     "output_type": "execute_result"
    },
    {
     "data": {
      "image/png": "[encoded data removed]",
      "text/plain": [
       "<Figure size 432x288 with 1 Axes>"
      ]
     },
     "metadata": {
      "needs_background": "light"
     },
     "output_type": "display_data"
    },
    {
     "data": {
      "image/png": "[encoded data removed]",
      "text/plain": [
       "<Figure size 432x288 with 1 Axes>"
      ]
     },
     "metadata": {
      "needs_background": "light"
     },
     "output_type": "display_data"
    },
    {
     "data": {
      "image/png": "[encoded data removed]",
      "text/plain": [
       "<Figure size 432x288 with 1 Axes>"
      ]
     },
     "metadata": {
      "needs_background": "light"
     },
     "output_type": "display_data"
    }
   ],
   "source": [
    "fig, a5 = plt.subplots()\n",
    "fig, a16 = plt.subplots()\n",
    "fig, a32 = plt.subplots()\n",
    "a5.set_xlabel(\"Time\")\n",
    "a5.plot((data5['systemTime']-data5['systemTime'][0])[:-2],data5['linkQuality'][:-2],label=\"LQ\")\n",
    "a16.set_xlabel(\"Time\")\n",
    "a16.plot((data16['systemTime']-data16['systemTime'][0])[:-2],data16['linkQuality'][:-2],label=\"LQ\")\n",
    "a32.set_xlabel(\"Time\")\n",
    "a32.plot((data32['systemTime']-data32['systemTime'][0])[:-2],data32['linkQuality'][:-2],label=\"LQ\")\n",
    "\n",
    "#ax.plot(testdata['systemTime']-testdata['systemTime'][0],traindata['neighborLinkQuality'],label=\"NLQ\")\n",
    "#ax.scatter(traindata['neighborLinkQuality'],label, label=\"NLQ\")\n",
    "a5.legend()\n",
    "a16.legend()\n",
    "a32.legend()\n",
    "#fig, asignal = plt.subplots()\n",
    "#asignal.set_xlabel(\"Time\")\n",
    "#asignal.plot(testdata1['systemTime']-testdata1['systemTime'][0],traindata['RSSI value'],label=\"RSSI\")\n",
    "#asignal.plot(testdata1['systemTime']-testdata1['systemTime'][0],traindata['AVG RSSI value'],label=\"AVG RSSI\")\n",
    "#asignal.legend()\n"
   ]
  },
  {
   "cell_type": "code",
   "execution_count": null,
   "metadata": {},
   "outputs": [],
   "source": [
    "data5 = pd.read_csv(\"./window 5/distance2/5.csv\")\n",
    "data16 = pd.read_csv(\"./window 16/distance2/5.csv\")\n",
    "data32 = pd.read_csv(\"./window 32/distance2/5.csv\")"
   ]
  }
 ],
 "metadata": {
  "kernelspec": {
   "display_name": "Python 3",
   "language": "python",
   "name": "python3"
  },
  "language_info": {
   "codemirror_mode": {
    "name": "ipython",
    "version": 3
   },
   "file_extension": ".py",
   "mimetype": "text/x-python",
   "name": "python",
   "nbconvert_exporter": "python",
   "pygments_lexer": "ipython3",
   "version": "3.10.4 (tags/v3.10.4:9d38120, Mar 23 2022, 23:13:41) [MSC v.1929 64 bit (AMD64)]"
  },
  "orig_nbformat": 4,
  "vscode": {
   "interpreter": {
    "hash": "5028f67c6d18250ee72baa53996febd7bcc446cc51a97688acb305be1ee1e5b7"
   }
  }
 },
 "nbformat": 4,
 "nbformat_minor": 2
}
