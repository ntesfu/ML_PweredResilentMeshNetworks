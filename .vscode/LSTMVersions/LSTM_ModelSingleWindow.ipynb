{
 "cells": [
  {
   "cell_type": "markdown",
   "metadata": {},
   "source": [
    "## Using LSTM model to predict disconnections"
   ]
  },
  {
   "cell_type": "code",
   "execution_count": 68,
   "metadata": {},
   "outputs": [],
   "source": [
    "import IPython\n",
    "import sys\n",
    "import matplotlib.pyplot as plt\n",
    "import numpy as np\n",
    "from tensorflow import keras\n",
    "import tensorflow as tf\n",
    "import os\n",
    "import matplotlib as mp\n",
    "import matplotlib.pyplot as plt\n",
    "import pandas as pd \n",
    "\n",
    "from tensorflow.keras.layers import Dense, Activation, Dropout, Input, LSTM, Reshape, Lambda, RepeatVector\n",
    "from tensorflow.keras.models import Model\n",
    "from tensorflow.keras.optimizers import Adam\n",
    "from tensorflow.keras.utils import to_categorical\n",
    "\n"
   ]
  },
  {
   "cell_type": "markdown",
   "metadata": {},
   "source": []
  },
  {
   "cell_type": "code",
   "execution_count": 196,
   "metadata": {},
   "outputs": [],
   "source": [
    "#populates the \n",
    "def populateLabel(labels, Tx, indent = 8):\n",
    "\tindices = np.argwhere(labels == 0).flatten()\n",
    "\tfor i in indices:\n",
    "\t\tlabels[i-indent:i] = 0\n",
    "\t\n",
    "\treturn list(indices)\n",
    "\n",
    "\n",
    "def generateDataset(dataset, Tx, nx):\n",
    "\tlabels = dataset['Connected'].to_numpy()\n",
    "\tdataset = dataset[['linkQuality','neighborLinkQuality', 'AVG RSSI value']]\n",
    "\tdt = dataset.to_numpy()\n",
    "\n",
    "\tprint(dt.shape)\n",
    "\tindices = populateLabel(labels, Tx, indent = 12)\n",
    "\t# dt = np.delete(dt, indices, axis=0)\n",
    "\t# labels = np.delete(labels, indices, axis=0)\t\n",
    "\tprint(dt.shape)\n",
    "\n",
    "\n",
    "\tentry, param = dt.shape\n",
    "\tX = np.zeros((entry, Tx, nx))\n",
    "\ty = np.zeros((Tx, entry, 1))\n",
    "\tlabels = np.reshape(labels, (entry,1))\n",
    "\n",
    "\tlabel_idx = 0\n",
    "\tx_idx = 0\n",
    "\tdata_size = 0\n",
    "\tprint(indices)\n",
    "\tfor i in range(entry):\n",
    "\t\t\n",
    "\t\tdt_idx = [x+x_idx for x in range(Tx)]\n",
    "\t\tif dt_idx.__contains__(indices[label_idx]):\n",
    "\t\t\tx_idx = indices[label_idx] + 1\n",
    "\t\t\tlabel_idx += 1\n",
    "\t\t# print(x_idx, x_idx + Tx)\n",
    "\t\tif entry <= x_idx:\n",
    "\t\t\tbreak\t\n",
    "\t\tX[i, :, :] = dt[x_idx : x_idx + Tx, :]\n",
    "\t\ty[:, i, :] = labels[x_idx: x_idx + Tx, :]\n",
    "\t\tdata_size = i\t\n",
    "\t\tx_idx += 1\n",
    "\t\t\n",
    "\tprint(data_size)\n",
    "\n",
    "\t# m = int(entry / Tx)\n",
    "\t# cnt = Tx\n",
    "\t# X = np.zeros((m, Tx, nx))\n",
    "\t# y = np.zeros((Tx, m, 1))\n",
    "\t# labels = np.reshape(labels, (entry,1))\n",
    "\t# for i in range(m):\n",
    "\t# \ts_idx = i*Tx\t\t\n",
    "\t# \tif s_idx + Tx > entry:\n",
    "\t# \t\tcnt = entry\n",
    "\t# \telse:\n",
    "\t# \t\tcnt = s_idx + Tx\n",
    "\t# \tX[i, :, :] = dt[s_idx : cnt, :]\n",
    "\t# \ty[:, i, :] = labels[s_idx : cnt, :]\n",
    "\t# \t#print(s_idx, entry, cnt)\n",
    "\t# \t#print(dt[s_idx : cnt, :])\n",
    "\n",
    "\treturn X, y, data_size + 1"
   ]
  },
  {
   "cell_type": "code",
   "execution_count": 197,
   "metadata": {},
   "outputs": [],
   "source": [
    "Tx = 16\n",
    "nx = 3\n",
    "data = pd.read_csv(\"dataset/win32.csv\")\n",
    "#print(data.columns)\n",
    "\n",
    "data['RSSI value'] = (data['RSSI value'] - data['RSSI value'].mean()) / data['RSSI value'].std()\n",
    "data['AVG RSSI value'] = (data['AVG RSSI value'] - data['AVG RSSI value'].mean()) / data['AVG RSSI value'].std()\n",
    "\n",
    "dataset = data[['linkQuality','neighborLinkQuality', 'AVG RSSI value', 'Connected']]\n",
    "#dataset.head(5)\n"
   ]
  },
  {
   "cell_type": "code",
   "execution_count": 198,
   "metadata": {},
   "outputs": [
    {
     "name": "stdout",
     "output_type": "stream",
     "text": [
      "(2178, 3)\n",
      "(2178, 3)\n",
      "[59, 118, 259, 400, 533, 664, 811, 959, 1110, 1257, 1322, 1384, 1447, 1510, 1679, 1846, 2012, 2177]\n",
      "1889\n",
      "(1512, 16, 3) (378, 16, 3)\n",
      "(16, 1512, 1) (16, 378, 1)\n",
      "\n"
     ]
    }
   ],
   "source": [
    "X, y, data_size = generateDataset(dataset, Tx, nx)\n",
    "\n",
    "X = X[:data_size,:,:]\n",
    "y = y[:,:data_size]\n",
    "\n",
    "# working with y prediction at the end of the file\n",
    "\n",
    "\n",
    "entry = X.shape[0]\n",
    "\n",
    "train_size = round(0.8*entry)\n",
    "trainX, trainy = X[0:train_size,:,:], y[:,0:train_size,:]\n",
    "testX, testy = X[train_size:,:,:], y[:,train_size:,:]\n",
    "print(trainX.shape, testX.shape)\n",
    "print(trainy.shape, testy.shape)\n",
    "#print(testy[1:3,:,:])\n",
    "print()"
   ]
  },
  {
   "cell_type": "code",
   "execution_count": 199,
   "metadata": {},
   "outputs": [],
   "source": [
    "# print(X[1889,:,:])\n",
    "# print(y[:,1888])"
   ]
  },
  {
   "cell_type": "code",
   "execution_count": 220,
   "metadata": {},
   "outputs": [],
   "source": [
    "# number of dimensions for the hidden state of each LSTM cell.\n",
    "n_a = 32\n",
    "n_values = nx # number of parameters\n",
    "reshaper = Reshape((1, n_values))      \n",
    "LSTM_cell = LSTM(n_a, return_state = True)\n",
    "densor = Dense(1, activation='sigmoid')"
   ]
  },
  {
   "cell_type": "code",
   "execution_count": 221,
   "metadata": {},
   "outputs": [],
   "source": [
    "def connectionModel(Tx, LSTM_cell, densor, reshaper):\n",
    "    \"\"\"\n",
    "    Implement the connection model composed of Tx LSTM cells where each cell is responsible\n",
    "    for learning the following note based on the previous note and context.\n",
    "    Each cell has the following schema:\n",
    "            [X_{t}, a_{t-1}, c0_{t-1}] -> RESHAPE() -> LSTM() -> DENSE()\n",
    "    Arguments:\n",
    "        Tx -- length of the sequences in the corpus\n",
    "        LSTM_cell -- LSTM layer instance\n",
    "        densor -- Dense layer instance\n",
    "        reshaper -- Reshape layer instance\n",
    "    \n",
    "    Returns:\n",
    "        model -- a keras instance model with inputs [X, a0, c0]\n",
    "    \"\"\"\n",
    "    # Get the shape of input values\n",
    "    n_values = nx\n",
    "    \n",
    "    # Get the number of the hidden state vector\n",
    "    n_a = LSTM_cell.units\n",
    "    \n",
    "    # Define the input layer and specify the shape\n",
    "    X = Input(shape=(Tx, n_values)) \n",
    "    \n",
    "    # Define the initial hidden state a0 and initial cell state c0\n",
    "    a0 = Input(shape=(n_a,), name='a0')\n",
    "    c0 = Input(shape=(n_a,), name='c0')\n",
    "    a = a0\n",
    "    c = c0\n",
    "    \n",
    "\t#empty list for the output\n",
    "    outputs = []\n",
    "    op = 0\n",
    "    \n",
    "    #Loop over tx\n",
    "    for t in range(Tx):        \n",
    "        #select the \"t\"th time step vector from X. \n",
    "        x = X[:,t,:]\n",
    "        #print(x.shape)\n",
    "        #Use reshaper to reshape x to be (1, n_values)\n",
    "        x = reshaper(x)\n",
    "        #Perform one step of the LSTM_cell\n",
    "        a, _, c = LSTM_cell(x, initial_state=[a,c])\n",
    "        #Apply densor to the hidden state output of LSTM_Cell\n",
    "        out = densor(a)\n",
    "        op = out\n",
    "        #add the output to \"outputs\"\n",
    "    \n",
    "    outputs.append(op)\n",
    "        \n",
    "    #Create model instance\n",
    "    model = Model(inputs=[X, a0, c0], outputs=outputs)\n",
    "    return model"
   ]
  },
  {
   "cell_type": "code",
   "execution_count": 215,
   "metadata": {},
   "outputs": [],
   "source": [
    "model = connectionModel(Tx, LSTM_cell=LSTM_cell, densor=densor, reshaper=reshaper)"
   ]
  },
  {
   "cell_type": "code",
   "execution_count": 203,
   "metadata": {},
   "outputs": [],
   "source": [
    "#model.summary()"
   ]
  },
  {
   "cell_type": "code",
   "execution_count": 216,
   "metadata": {},
   "outputs": [],
   "source": [
    "opt = Adam(learning_rate=0.01, beta_1=0.9, beta_2=0.999)\n",
    "model.compile(optimizer=opt, loss='binary_crossentropy', metrics=['accuracy'])"
   ]
  },
  {
   "cell_type": "code",
   "execution_count": 217,
   "metadata": {},
   "outputs": [],
   "source": [
    "m = trainX.shape[0]\n",
    "testSize = testX.shape[0]\n",
    "a0 = np.zeros((m, n_a))\n",
    "c0 = np.zeros((m, n_a))"
   ]
  },
  {
   "cell_type": "code",
   "execution_count": 218,
   "metadata": {},
   "outputs": [],
   "source": [
    "history = model.fit([trainX, a0, c0], list(trainy), epochs=95, verbose = 0)"
   ]
  },
  {
   "cell_type": "code",
   "execution_count": 219,
   "metadata": {},
   "outputs": [
    {
     "name": "stdout",
     "output_type": "stream",
     "text": [
      "loss at epoch 1: 9.599931716918945\n",
      "loss at epoch 100: 3.099703311920166\n"
     ]
    },
    {
     "data": {
      "text/plain": [
       "[<matplotlib.lines.Line2D at 0x26c718de490>]"
      ]
     },
     "execution_count": 219,
     "metadata": {},
     "output_type": "execute_result"
    },
    {
     "data": {
      "image/png": "[encoded data removed]",
      "text/plain": [
       "<Figure size 640x480 with 1 Axes>"
      ]
     },
     "metadata": {},
     "output_type": "display_data"
    }
   ],
   "source": [
    "print(f\"loss at epoch 1: {history.history['loss'][0]}\")\n",
    "print(f\"loss at epoch 100: {history.history['loss'][94]}\")\n",
    "plt.plot(history.history['loss'])"
   ]
  },
  {
   "cell_type": "code",
   "execution_count": 43,
   "metadata": {},
   "outputs": [],
   "source": [
    "def connection_inference_model(LSTM_cell, densor, Ty=Tx):\n",
    "    \"\"\"\n",
    "    Uses the trained \"LSTM_cell\" and \"densor\" from model() to generate a sequence of values.\n",
    "    \n",
    "    Arguments:\n",
    "    LSTM_cell -- the trained \"LSTM_cell\" from model(), Keras layer object\n",
    "    densor -- the trained \"densor\" from model(), Keras layer object\n",
    "    Ty -- integer, number of time steps to generate\n",
    "    \n",
    "    Returns:\n",
    "    inference_model -- Keras model instance\n",
    "    \"\"\"\n",
    "    \n",
    "    # Get the shape of input values hello\n",
    "    n_values = nx\n",
    "    # Get the number of the hidden state vector\n",
    "    n_a = LSTM_cell.units\n",
    "    \n",
    "    # Define the input of your model with a shape \n",
    "    X = Input(shape=(Ty, n_values))\n",
    "    \n",
    "    \n",
    "    # Define s0, initial hidden state for the decoder LSTM\n",
    "    a0 = Input(shape=(n_a,), name='a0')\n",
    "    c0 = Input(shape=(n_a,), name='c0')\n",
    "    a = a0\n",
    "    c = c0\n",
    "    \n",
    "    outputs = []\n",
    "\n",
    "    print(X.shape)\n",
    "\n",
    "    for t in range(Ty):\n",
    "        x = X[:,t,:]\n",
    "        print(x.shape)\n",
    "        x = reshaper(x)\n",
    "        a, _, c = LSTM_cell(x, initial_state=[a,c])\n",
    "        out = densor(a)\n",
    "        outputs.append(out)\n",
    "        print(x.shape)\n",
    "\n",
    "    inference_model = Model(inputs=[X,a0,c0], outputs=outputs)    \n",
    "    return inference_model"
   ]
  },
  {
   "cell_type": "code",
   "execution_count": 208,
   "metadata": {},
   "outputs": [],
   "source": [
    "def calculate_accuracy(array1, array2):\n",
    "    assert array1.shape == array2.shape, \"Arrays must be of the same shape\"\n",
    "    correct = np.sum(np.equal(array1,array2))\n",
    "    total = np.size(array1)\n",
    "    return correct/total"
   ]
  },
  {
   "attachments": {},
   "cell_type": "markdown",
   "metadata": {},
   "source": [
    "# Trying it out on test set\n"
   ]
  },
  {
   "cell_type": "code",
   "execution_count": 209,
   "metadata": {},
   "outputs": [
    {
     "name": "stdout",
     "output_type": "stream",
     "text": [
      "12/12 [==============================] - 16s 6ms/step\n",
      "0.9942129629629629\n",
      "(378, 16, 1)\n",
      "(378, 16, 1)\n",
      "(378, 16)\n",
      "(378, 16)\n",
      "hello (378, 16)\n"
     ]
    }
   ],
   "source": [
    "testSize = testX.shape[0]\n",
    "a_initializer = np.zeros((testSize, n_a))\n",
    "c_initializer = np.zeros((testSize, n_a))\n",
    "\n",
    "tst = testX\n",
    "pred = model.predict([tst, a_initializer, c_initializer])\n",
    "\n",
    "#analyse data\n",
    "for i in range(len(pred)):\n",
    "\tpred[i] = [1 if x >= 0.5 else 0 for x in pred[i]]\n",
    "\n",
    "ypred = np.array(pred)\n",
    "ypred = ypred.reshape(Tx, testSize, 1)\n",
    "\n",
    "print(calculate_accuracy(ypred, testy))\n",
    "ypredt = np.transpose(ypred, (1, 0, 2))\n",
    "print(ypredt.shape)\n",
    "testyt = np.transpose(testy, (1, 0, 2))\n",
    "print(testyt.shape)\n",
    "\n",
    "ypredt = ypredt.reshape(testSize, Tx)\n",
    "trainy_op = testyt.reshape(testSize, Tx)\n",
    "print(trainy_op.shape)\n",
    "print(ypredt.shape)\n",
    "\n",
    "\n",
    "trainy_op =  trainy_op.astype('int')\n",
    "print(\"hello\", trainy_op.shape)\n",
    "modeloutput = pd.DataFrame(ypredt)\n",
    "realoutput = pd.DataFrame(trainy_op)\n",
    "modeloutput.to_csv(\"modeloutput.csv\")\n",
    "realoutput.to_csv(\"real_output.csv\")\n"
   ]
  },
  {
   "attachments": {},
   "cell_type": "markdown",
   "metadata": {},
   "source": [
    "# Accuracy on training set"
   ]
  },
  {
   "cell_type": "code",
   "execution_count": 210,
   "metadata": {},
   "outputs": [],
   "source": [
    "#train set accuracy check\n",
    "testSize = train_size\n",
    "a_initializer = np.zeros((testSize, n_a))\n",
    "c_initializer = np.zeros((testSize, n_a))"
   ]
  },
  {
   "cell_type": "code",
   "execution_count": 211,
   "metadata": {},
   "outputs": [
    {
     "name": "stdout",
     "output_type": "stream",
     "text": [
      "(1512, 16, 3)\n",
      "48/48 [==============================] - 4s 6ms/step\n"
     ]
    }
   ],
   "source": [
    "\n",
    "tst = trainX\n",
    "print(tst.shape)\n",
    "#inference_model = connection_inference_model(LSTM_cell, densor, Tx)\n",
    "#pred = inference_model.predict([tst, a_initializer, c_initializer])\n",
    "pred = model.predict([tst, a_initializer, c_initializer])"
   ]
  },
  {
   "cell_type": "code",
   "execution_count": 212,
   "metadata": {},
   "outputs": [
    {
     "name": "stdout",
     "output_type": "stream",
     "text": [
      "0.9967344576719577\n",
      "(16, 1512, 1)\n",
      "(1512, 16, 1)\n",
      "(1512, 16)\n",
      "(1512, 16)\n",
      "hello (1512, 16)\n"
     ]
    }
   ],
   "source": [
    "for i in range(len(pred)):\n",
    "\tpred[i] = [1 if x >= 0.5 else 0 for x in pred[i]]\n",
    "\n",
    "\n",
    "ypred = np.array(pred)\n",
    "ypred = ypred.reshape(16, testSize, 1)\n",
    "\n",
    "print(calculate_accuracy(ypred, trainy))\n",
    "ypredt = np.transpose(ypred, (1, 0, 2))\n",
    "print(trainy.shape)\n",
    "testyt = np.transpose(trainy, (1, 0, 2))\n",
    "print(testyt.shape)\n",
    "\n",
    "ypredt = ypredt.reshape(testSize, 16)\n",
    "trainy_op = testyt.reshape(testSize, 16)\n",
    "print(trainy_op.shape)\n",
    "print(ypredt.shape)\n",
    "\n",
    "\n",
    "trainy_op =  trainy_op.astype('int')\n",
    "print(\"hello\", trainy_op.shape)\n",
    "modeloutput = pd.DataFrame(ypredt)\n",
    "realoutput = pd.DataFrame(trainy_op)\n",
    "modeloutput.to_csv(\"modeloutputTrain.csv\")\n",
    "realoutput.to_csv(\"real_outputTrain.csv\")\n"
   ]
  },
  {
   "cell_type": "code",
   "execution_count": 43,
   "metadata": {},
   "outputs": [],
   "source": [
    "# model.save('lstm_modlel')"
   ]
  }
 ],
 "metadata": {
  "kernelspec": {
   "display_name": "Python 3.9.0 64-bit",
   "language": "python",
   "name": "python3"
  },
  "language_info": {
   "codemirror_mode": {
    "name": "ipython",
    "version": 3
   },
   "file_extension": ".py",
   "mimetype": "text/x-python",
   "name": "python",
   "nbconvert_exporter": "python",
   "pygments_lexer": "ipython3",
   "version": "3.9.0"
  },
  "orig_nbformat": 4,
  "vscode": {
   "interpreter": {
    "hash": "bf0f5d43016d70db13a3a65be30be6b37fddca62a5675c546136264e1b91590c"
   }
  }
 },
 "nbformat": 4,
 "nbformat_minor": 2
}
